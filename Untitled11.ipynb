{
  "nbformat": 4,
  "nbformat_minor": 0,
  "metadata": {
    "colab": {
      "provenance": [],
      "toc_visible": true,
      "authorship_tag": "ABX9TyNu1QoUYHNq1Ha5UdxBlONQ",
      "include_colab_link": true
    },
    "kernelspec": {
      "name": "python3",
      "display_name": "Python 3"
    },
    "language_info": {
      "name": "python"
    }
  },
  "cells": [
    {
      "cell_type": "markdown",
      "metadata": {
        "id": "view-in-github",
        "colab_type": "text"
      },
      "source": [
        "<a href=\"https://colab.research.google.com/github/MakiAfom/PRODOGY_DS_02/blob/main/Untitled11.ipynb\" target=\"_parent\"><img src=\"https://colab.research.google.com/assets/colab-badge.svg\" alt=\"Open In Colab\"/></a>"
      ]
    },
    {
      "cell_type": "code",
      "execution_count": 14,
      "metadata": {
        "id": "yo_4Rlu_MTlD"
      },
      "outputs": [],
      "source": [
        "import pandas as pd\n",
        "train_dataset=pd.read_csv(\"train_1.csv\")\n",
        "test_dataset=pd.read_csv(\"test_1.csv\")\n",
        "# Drop rows with any missing value\n",
        "print(train_dataset.dropna(axis=0, how='any', inplace=True))\n",
        "print(test_dataset.dropna(axis=0, how='any', inplace=True))\n",
        "print(test_dataset)\n",
        "\n",
        "\n",
        "# Drop columns with any missing value\n",
        "print(train_dataset.dropna(axis=1, how='any', inplace=True))\n",
        "print(train_dataset.dropna(axis=1, how='any', inplace=True))\n",
        "print(test_dataset.describe())\n",
        "print(train_dataset)\n",
        "\n",
        "# Impute missing values with mean\n",
        "mean_age = train_dataset['Age'].mean()\n",
        "train_dataset['Age'].fillna(mean_age, inplace=True)\n",
        "\n",
        "# missing values for test set with mean\n",
        "mean_test_age=test_dataset['Age'].mean()\n",
        "test_dataset['Age'].fillna(mean_age , inplace=)\n",
        "\n",
        "\n",
        "\n"
      ]
    }
  ]
}