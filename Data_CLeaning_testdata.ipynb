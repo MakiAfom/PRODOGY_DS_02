{
  "nbformat": 4,
  "nbformat_minor": 0,
  "metadata": {
    "colab": {
      "provenance": [],
      "authorship_tag": "ABX9TyNjw2YfCQIHZUOQrUuM1xgF",
      "include_colab_link": true
    },
    "kernelspec": {
      "name": "python3",
      "display_name": "Python 3"
    },
    "language_info": {
      "name": "python"
    }
  },
  "cells": [
    {
      "cell_type": "markdown",
      "metadata": {
        "id": "view-in-github",
        "colab_type": "text"
      },
      "source": [
        "<a href=\"https://colab.research.google.com/github/MakiAfom/PRODOGY_DS_02/blob/main/Data_CLeaning_testdata.ipynb\" target=\"_parent\"><img src=\"https://colab.research.google.com/assets/colab-badge.svg\" alt=\"Open In Colab\"/></a>"
      ]
    },
    {
      "cell_type": "code",
      "execution_count": null,
      "metadata": {
        "id": "AF4xS5DJ5zyl"
      },
      "outputs": [],
      "source": []
    },
    {
      "cell_type": "code",
      "source": [
        "\n",
        "import pandas as pd\n",
        "import numpy as np\n",
        "import matplotlib.pyplot as plt\n",
        "import seaborn as sns\n",
        "\n",
        "\n",
        "test_dataset=pd.read_csv(\"test_1.csv\")\n",
        "#print (test_dataset)\n",
        "\n",
        "test_dataset.dropna(subset=['Embarked','Name','Cabin','Sex','Ticket','Fare'], inplace=True)\n",
        "\n",
        "test_dataset['Age'].fillna(test_dataset['Age'].mean(), inplace=True)\n",
        "\n",
        "\n",
        "\n",
        "\n",
        "test_dataset[['SibSp', 'Parch']].fillna(0, inplace=True)\n",
        "\n",
        "print(test_dataset)\n",
        "#print(test_dataset.isnull().sum())\n",
        "#print(train_dataset.info())\n",
        "\n",
        "#print(test_dataset.info())\n",
        "#print(test_dataset.head())\n",
        "#print(test_dataset.tail())\n",
        "#print(test_dataset.describe())\n",
        "#print(test_dataset.shape)\n",
        "\n"
      ],
      "metadata": {
        "colab": {
          "base_uri": "https://localhost:8080/"
        },
        "id": "4RhWCe0m6MDI",
        "outputId": "fec0251d-cbc4-4887-cb65-e13fb13b17b3"
      },
      "execution_count": 21,
      "outputs": [
        {
          "output_type": "stream",
          "name": "stdout",
          "text": [
            "     PassengerId  Pclass                                               Name  \\\n",
            "12           904       1      Snyder, Mrs. John Pillsbury (Nelle Stevenson)   \n",
            "14           906       1  Chaffee, Mrs. Herbert Fuller (Carrie Constance...   \n",
            "24           916       1    Ryerson, Mrs. Arthur Larned (Emily Maria Borie)   \n",
            "26           918       1                       Ostby, Miss. Helene Ragnhild   \n",
            "28           920       1                            Brady, Mr. John Bertram   \n",
            "..           ...     ...                                                ...   \n",
            "404         1296       1                       Frauenthal, Mr. Isaac Gerald   \n",
            "405         1297       2       Nourney, Mr. Alfred (Baron von Drachstedt\")\"   \n",
            "407         1299       1                         Widener, Mr. George Dunton   \n",
            "411         1303       1    Minahan, Mrs. William Edward (Lillian E Thorpe)   \n",
            "414         1306       1                       Oliva y Ocana, Dona. Fermina   \n",
            "\n",
            "        Sex   Age  SibSp  Parch         Ticket      Fare            Cabin  \\\n",
            "12   female  23.0      1      0          21228   82.2667              B45   \n",
            "14   female  47.0      1      0    W.E.P. 5734   61.1750              E31   \n",
            "24   female  48.0      1      3       PC 17608  262.3750  B57 B59 B63 B66   \n",
            "26   female  22.0      0      1         113509   61.9792              B36   \n",
            "28     male  41.0      0      0         113054   30.5000              A21   \n",
            "..      ...   ...    ...    ...            ...       ...              ...   \n",
            "404    male  43.0      1      0          17765   27.7208              D40   \n",
            "405    male  20.0      0      0  SC/PARIS 2166   13.8625              D38   \n",
            "407    male  50.0      1      1         113503  211.5000              C80   \n",
            "411  female  37.0      1      0          19928   90.0000              C78   \n",
            "414  female  39.0      0      0       PC 17758  108.9000             C105   \n",
            "\n",
            "    Embarked  \n",
            "12         S  \n",
            "14         S  \n",
            "24         C  \n",
            "26         C  \n",
            "28         S  \n",
            "..       ...  \n",
            "404        C  \n",
            "405        C  \n",
            "407        C  \n",
            "411        Q  \n",
            "414        C  \n",
            "\n",
            "[91 rows x 11 columns]\n"
          ]
        },
        {
          "output_type": "stream",
          "name": "stderr",
          "text": [
            "<ipython-input-21-5ddf270aa134>:17: SettingWithCopyWarning: \n",
            "A value is trying to be set on a copy of a slice from a DataFrame\n",
            "\n",
            "See the caveats in the documentation: https://pandas.pydata.org/pandas-docs/stable/user_guide/indexing.html#returning-a-view-versus-a-copy\n",
            "  test_dataset[['SibSp', 'Parch']].fillna(0, inplace=True)\n"
          ]
        }
      ]
    },
    {
      "cell_type": "code",
      "source": [],
      "metadata": {
        "id": "dFMYTt96MKzu"
      },
      "execution_count": null,
      "outputs": []
    },
    {
      "cell_type": "markdown",
      "source": [
        "# New Section"
      ],
      "metadata": {
        "id": "winxmv8C_to5"
      }
    },
    {
      "cell_type": "markdown",
      "source": [
        "# New Section"
      ],
      "metadata": {
        "id": "7zuAUuhf_ubL"
      }
    }
  ]
}